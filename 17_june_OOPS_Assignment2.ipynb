{
 "cells": [
  {
   "cell_type": "markdown",
   "id": "847adbb7-db76-4977-981e-bb4bb638709c",
   "metadata": {},
   "source": [
    "Q1. What is Abstraction in OOps? Explain with an example."
   ]
  },
  {
   "cell_type": "markdown",
   "id": "e41b2030-2805-4444-804f-6b456fba752f",
   "metadata": {},
   "source": [
    "#Answer\n",
    "  Abstraction is one of the four fundamental principles of Object-Oriented Programming (OOP) and is used to hide the implementation details of an object while exposing only the essential features or functionalities to the outside world. It allows you to focus on what an object does rather than how it does it. By abstracting the implementation details, you create a clear and simplified interface for interacting with the object.\n"
   ]
  },
  {
   "cell_type": "code",
   "execution_count": 2,
   "id": "a4d0ddf9-d8dc-4814-afad-bc35b8785851",
   "metadata": {},
   "outputs": [],
   "source": [
    "from abc import ABC, abstractmethod\n",
    "class Animal(ABC):\n",
    "    def __init__(self, name, age):\n",
    "        self.name = name\n",
    "        self.age = age\n",
    "        \n",
    "    @abstractmethod\n",
    "    def speaks(self):\n",
    "        pass\n",
    "    @abstractmethod\n",
    "    def is_a(self):\n",
    "        pass\n",
    "class dog(Animal):\n",
    "    def speaks(self):\n",
    "        print(self.name,\"is barking\")\n",
    "        \n",
    "    def is_a(self):\n",
    "        print(self.name, \"is a petanimal\")\n",
    "        \n",
    "class tiger(Animal):\n",
    "    def speaks(self):\n",
    "        print(self.name, \"is roaring\")\n",
    "        \n",
    "    def is_a(self):\n",
    "        print(self.name, \"is a wild animal\")\n",
    "  \n",
    "    "
   ]
  },
  {
   "cell_type": "code",
   "execution_count": 3,
   "id": "da1b6666-9cc2-4b0e-8262-b4cc7979d2c0",
   "metadata": {},
   "outputs": [],
   "source": [
    "Dog = dog(\"tommy\", 6)\n",
    "Tiger = tiger(\"shera\", 20)\n"
   ]
  },
  {
   "cell_type": "code",
   "execution_count": 8,
   "id": "34068dbd-9af8-4567-ad4d-c211995ac8f3",
   "metadata": {},
   "outputs": [
    {
     "name": "stdout",
     "output_type": "stream",
     "text": [
      "tommy is barking\n",
      "tommy is a petanimal\n",
      "shera is roaring\n",
      "shera is a wild animal\n"
     ]
    }
   ],
   "source": [
    "Dog.speaks()\n",
    "Dog.is_a()\n",
    "Tiger.speaks()\n",
    "Tiger.is_a()"
   ]
  },
  {
   "cell_type": "code",
   "execution_count": 12,
   "id": "0e33ed15-dfd3-472a-8f49-d79b45575335",
   "metadata": {},
   "outputs": [
    {
     "data": {
      "text/plain": [
       "20"
      ]
     },
     "execution_count": 12,
     "metadata": {},
     "output_type": "execute_result"
    }
   ],
   "source": [
    "Tiger.age"
   ]
  },
  {
   "cell_type": "code",
   "execution_count": 11,
   "id": "4f9664f7-94ed-44f3-b3d5-2193ba04d04a",
   "metadata": {},
   "outputs": [
    {
     "data": {
      "text/plain": [
       "'tommy'"
      ]
     },
     "execution_count": 11,
     "metadata": {},
     "output_type": "execute_result"
    }
   ],
   "source": [
    "Dog.name"
   ]
  },
  {
   "cell_type": "code",
   "execution_count": 13,
   "id": "c118da0c-d123-43b9-bff7-00b5e4021b47",
   "metadata": {},
   "outputs": [
    {
     "name": "stdout",
     "output_type": "stream",
     "text": [
      "True\n"
     ]
    }
   ],
   "source": [
    "print(isinstance(Dog,Animal))"
   ]
  },
  {
   "cell_type": "code",
   "execution_count": 14,
   "id": "3bb8f8df-03b7-429b-b750-3e89e4696cdf",
   "metadata": {},
   "outputs": [
    {
     "name": "stdout",
     "output_type": "stream",
     "text": [
      "True\n"
     ]
    }
   ],
   "source": [
    "print(isinstance(Tiger, Animal))"
   ]
  },
  {
   "cell_type": "markdown",
   "id": "d768ab2e-88b4-43b3-a1dd-6c72edbb4923",
   "metadata": {},
   "source": [
    "                      -------------------------------------------------------------------"
   ]
  },
  {
   "cell_type": "markdown",
   "id": "491180f2-5135-481c-9aa5-c7f7f6e92a5f",
   "metadata": {},
   "source": [
    "Q2. Differentiate between Abstraction and Encapsulation. Explain with an example."
   ]
  },
  {
   "cell_type": "markdown",
   "id": "4ca04967-9c40-482c-a8c7-0d7894ef3892",
   "metadata": {},
   "source": [
    "#Answer\n",
    "Abstraction:\n",
    "\n",
    "Abstraction is the process of simplifying complex systems by presenting only essential characteristics to the outside world while hiding the unnecessary details. Abstraction allows you to define the interface of an object without revealing the implementation details. It provides a high-level view of an object, focusing on what an object does rather than how it does it.\n",
    "\n",
    "Example of Abstraction:__\n"
   ]
  },
  {
   "cell_type": "code",
   "execution_count": null,
   "id": "8069f8c0-9b1b-4f87-bfdd-1cca7c8d382a",
   "metadata": {},
   "outputs": [],
   "source": [
    "class car:\n",
    "    def __init__(self,make, model):\n",
    "        self.make = make\n",
    "        self.model = model\n",
    "    def drive(self):\n",
    "        pass\n",
    "    def honk(self):\n",
    "        pass"
   ]
  },
  {
   "cell_type": "markdown",
   "id": "df4c8544-b6be-4397-aa33-8f1cf2985d1a",
   "metadata": {},
   "source": [
    "In this example, the Car class is an abstraction. It defines the common interface of a car with methods drive() and honk(), but it doesn't provide the specific implementation for these methods.\n",
    "\n",
    "Different car types (e.g., Sedan, SUV, Electric Car) can be created as subclasses of Car, where each subclass provides its own implementation of drive() and honk() based on their specific behavior. The abstraction allows us to interact with any car object using the common methods, without worrying about the internal details of each car type."
   ]
  },
  {
   "cell_type": "markdown",
   "id": "60fdffee-ff79-43d5-bbe7-aa6ca37d3b20",
   "metadata": {},
   "source": [
    "2) Encapsulation\n",
    "   is the process of bundling data (attributes) and the methods (functions) that operate on the data within a single unit, known as a class. It ensures that the internal state of an object is hidden from the outside and can only be accessed through the methods provided by the class. Encapsulation provides data protection and allows controlled access to an object's attributes, preventing direct modification and ensuring data integrity.\n",
    "   Example:__"
   ]
  },
  {
   "cell_type": "code",
   "execution_count": null,
   "id": "087bf668-c365-4a7b-9357-75e35330c572",
   "metadata": {},
   "outputs": [],
   "source": [
    "class Car:\n",
    "    def __init__(self, make, model):\n",
    "        self.__make = make  # Private attribute using double underscores\n",
    "        self.__model = model  # Private attribute using double underscores\n",
    "\n",
    "    def drive(self):\n",
    "        print(f\"Driving the {self.__make} {self.__model}.\")\n",
    "\n",
    "    def honk(self):\n",
    "        print(\"Honk!\")\n",
    "\n",
    "    def get_make(self):\n",
    "        return self.__make\n",
    "\n",
    "    def get_model(self):\n",
    "        return self.__model"
   ]
  },
  {
   "cell_type": "markdown",
   "id": "eec97b14-4d30-4a87-b7ce-211584e6ac3b",
   "metadata": {},
   "source": [
    "    In this example, we make the make and model attributes private by adding double underscores before their names (e.g., __make and __model). This encapsulation ensures that these attributes cannot be directly accessed or modified from outside the class.\n",
    "\n",
    "    To access the values of these private attributes, we provide getter methods (get_make() and get_model()), which allow controlled access to the private data.\n",
    "\n",
    "    In summary, abstraction focuses on hiding unnecessary details and providing a simplified interface, while encapsulation protects the internal data and provides controlled access through methods. Both concepts contribute to creating well-structured and maintainable object-oriented programs."
   ]
  },
  {
   "cell_type": "markdown",
   "id": "61e7fe27-1fe2-442b-9990-ddf2b4958328",
   "metadata": {},
   "source": [
    "                      -------------------------------------------------------------------"
   ]
  },
  {
   "cell_type": "markdown",
   "id": "ee58e8fc-6392-4da0-a0c9-2443f93e661c",
   "metadata": {},
   "source": [
    "Q3. What is abc module in python? Why is it used?"
   ]
  },
  {
   "cell_type": "markdown",
   "id": "985b4617-b59c-4f41-b176-b8a8e2756019",
   "metadata": {},
   "source": [
    "#Answer\n",
    "\n",
    " The abc module  stands for \"Abstract Base Classes.\" It is a built-in module that provides support for creating abstract classes and interfaces . Abstract classes are classes that cannot be instantiated directly and may contain abstract methods, which are methods without any implementation. Abstract classes serve as blueprints for other classes and define a common interface that their subclasses must implement.\n",
    " \n",
    "    The main purpose of the abc module is to enforce the concept of abstraction , allowing you to create abstract classes and interfaces and ensure that their subclasses provide specific implementations for certain methods.\n",
    " \n",
    "    By using the abc module, you can enforce certain method signatures and structure in your class hierarchy, ensuring that your classes adhere to the principles of abstraction and provide a consistent interface for their subclasses. This helps in building maintainable and robust object-oriented programs.\n"
   ]
  },
  {
   "cell_type": "markdown",
   "id": "ab68aa9b-06e7-48ba-9454-ab662e3c7fc2",
   "metadata": {},
   "source": [
    "                      -------------------------------------------------------------------"
   ]
  },
  {
   "cell_type": "markdown",
   "id": "603d8454-0f91-4c58-9047-9330eaa2c9b0",
   "metadata": {},
   "source": [
    "Q4. How can we achieve data abstraction?"
   ]
  },
  {
   "cell_type": "markdown",
   "id": "ae8d9ac2-fcd7-4dcc-ae2e-4d828f9652c5",
   "metadata": {},
   "source": [
    "#Answer\n",
    "Data abstraction  can be achieved using object-oriented programming (OOP) principles, specifically through the use of classes and objects. Data abstraction allows you to hide the internal details of an object and only expose the essential attributes and methods that are relevant to the outside world.\n",
    "\n",
    "Here are the key steps to achieve data abstraction:_\n",
    "\n",
    " 1) Define a Class:\n",
    "    Start by defining a class that represents the abstract concept or entity you want to model. The class should contain attributes (data) and methods (functions) that operate on the data.\n",
    "\n",
    "2) Make Attributes Private:\n",
    "   Use private attributes (by adding double underscores before their names) to hide the internal data of the object. This prevents direct access to the attributes from outside the class.\n",
    "\n",
    "3) Provide Getter and Setter Methods:\n",
    "   Create methods (getter and setter methods) within the class to access and modify the private attributes. These methods allow controlled access to the data and enable you to enforce constraints or perform validations if needed.\n",
    "\n",
    "4) Encapsulate Behavior:\n",
    "   Define methods that encapsulate the behavior or actions of the object. These methods provide a way for users of the class to interact with the object's data without needing to know its internal representation.\n",
    "\n",
    "\n"
   ]
  },
  {
   "cell_type": "markdown",
   "id": "cefbaf43-6ff9-49ad-b189-2a56c6f188e8",
   "metadata": {},
   "source": [
    "                      -------------------------------------------------------------------"
   ]
  },
  {
   "cell_type": "markdown",
   "id": "d83dbde1-120b-428e-9820-73b17987c381",
   "metadata": {},
   "source": [
    "Q5. Can we create an instance of an abstract class? Explain your answer."
   ]
  },
  {
   "cell_type": "markdown",
   "id": "8673e50e-92ee-4b72-8602-806a117c5c27",
   "metadata": {},
   "source": [
    "#Answer\n",
    " No, we cannot create an instance of an abstract class directly . Abstract classes are designed to serve as blueprints for other classes and are meant to be subclassed. They cannot be instantiated directly because they contain one or more abstract methods, which are methods without any implementation.\n",
    " \n",
    " Attempting to create an instance of an abstract class directly will raise a TypeError at runtime. Python prevents instantiation of abstract classes to enforce the concept of abstraction, ensuring that all abstract methods in the base class are implemented in its subclasses.\n",
    " \n",
    " Instead, we need to create concrete subclasses that inherit from the abstract class and provide concrete implementations for all the abstract methods. Only instances of these concrete subclasses can be created.\n",
    " \n",
    " example:__\n"
   ]
  },
  {
   "cell_type": "code",
   "execution_count": 3,
   "id": "3d6ee5e6-d138-4689-a58e-391376d31079",
   "metadata": {},
   "outputs": [],
   "source": [
    "from abc import ABC, abstractmethod\n",
    "class shape(ABC): #abstract class\n",
    "    @abstractmethod\n",
    "    def area(self):\n",
    "        pass\n",
    "    @abstractmethod\n",
    "    \n",
    "    def perimeter(self):\n",
    "        pass    "
   ]
  },
  {
   "cell_type": "code",
   "execution_count": 4,
   "id": "74188cde-791d-4f21-88ce-0da789200051",
   "metadata": {},
   "outputs": [
    {
     "ename": "TypeError",
     "evalue": "Can't instantiate abstract class shape with abstract methods area, perimeter",
     "output_type": "error",
     "traceback": [
      "\u001b[0;31m---------------------------------------------------------------------------\u001b[0m",
      "\u001b[0;31mTypeError\u001b[0m                                 Traceback (most recent call last)",
      "Cell \u001b[0;32mIn[4], line 1\u001b[0m\n\u001b[0;32m----> 1\u001b[0m Shape \u001b[38;5;241m=\u001b[39m \u001b[43mshape\u001b[49m\u001b[43m(\u001b[49m\u001b[43m)\u001b[49m\n",
      "\u001b[0;31mTypeError\u001b[0m: Can't instantiate abstract class shape with abstract methods area, perimeter"
     ]
    }
   ],
   "source": [
    "Shape = shape()"
   ]
  },
  {
   "cell_type": "markdown",
   "id": "776c66b9-6df6-4149-a3f4-b4b1e094c76f",
   "metadata": {},
   "source": [
    "here we can see that when we try to create an instance for abstract class it automaticallt showing error.\n",
    "Instead, we need to create concrete subclasses that inherit from Shape and provide concrete implementations for the abstract methods"
   ]
  },
  {
   "cell_type": "markdown",
   "id": "4bd56842-96dd-463e-9a53-abe5f7acc2c6",
   "metadata": {},
   "source": [
    "                       -------------------------------------------------------------------"
   ]
  }
 ],
 "metadata": {
  "kernelspec": {
   "display_name": "Python 3 (ipykernel)",
   "language": "python",
   "name": "python3"
  },
  "language_info": {
   "codemirror_mode": {
    "name": "ipython",
    "version": 3
   },
   "file_extension": ".py",
   "mimetype": "text/x-python",
   "name": "python",
   "nbconvert_exporter": "python",
   "pygments_lexer": "ipython3",
   "version": "3.10.8"
  }
 },
 "nbformat": 4,
 "nbformat_minor": 5
}
